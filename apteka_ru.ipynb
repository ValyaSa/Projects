{
 "cells": [
  {
   "cell_type": "code",
   "execution_count": 1,
   "id": "89def3f2",
   "metadata": {},
   "outputs": [],
   "source": [
    "import requests\n",
    "import pandas as pd\n",
    "from bs4 import BeautifulSoup\n",
    "from time import sleep\n",
    "from datetime import date"
   ]
  },
  {
   "cell_type": "code",
   "execution_count": 2,
   "id": "17a77c0c",
   "metadata": {},
   "outputs": [],
   "source": [
    "# адрес начальной страницы для веб-скрейпинга\n",
    "site = 'https://apteka.ru/'\n",
    "url = 'https://apteka.ru/brand/'\n",
    "# список брендов, данные которых необходимо получить\n",
    "brands = ['oleos', 'miraroma']"
   ]
  },
  {
   "cell_type": "code",
   "execution_count": 3,
   "id": "3ccedbb5",
   "metadata": {},
   "outputs": [],
   "source": [
    "# определяем кол-во страниц с товарами у бренда\n",
    "def pages_count(url, brand):\n",
    "    # получаем стартовую страницу для бренда\n",
    "    response_start = requests.get(url+brand+'/')\n",
    "    soup_start = BeautifulSoup(response_start.text, 'lxml')\n",
    "    # определяем общее кол-во страниц с товарами (результат: количество+1)\n",
    "    return len(soup_start.find('div', class_='Paginator').find_all('a'))\n",
    "    \n",
    "# извлекаем данные из карточек с несколькими вариантами\n",
    "def card_variants(card, brand):\n",
    "    # переходим на страницу товара\n",
    "    sleep(3)\n",
    "    result = []\n",
    "    response_prod = requests.get(site + card.find('a').get('href'))\n",
    "    soup = BeautifulSoup(response_prod.text, 'lxml')\n",
    "    # определяем список с вариантами\n",
    "    variants_prod = soup.find_all('a', class_='variantButton__button')\n",
    "    \n",
    "    for prod in variants_prod:\n",
    "        name = prod.get('aria-label')\n",
    "        price = prod.find('span', class_='moneyprice__roubles')\n",
    "        # если \"нет в наличии\", т.е. не указана цена - не добавляем\n",
    "        if price is not None:\n",
    "            result.append([brand, name, int(price.text)])\n",
    "    return result\n",
    "\n",
    "# для карточек без вариантов\n",
    "def card_no_variants(card, brand):\n",
    "    name = card.find('span', class_='catalog-card__name emphasis').text\n",
    "    price = card.find('span', class_='moneyprice__roubles')\n",
    "    # если \"нет в наличии\", т.е. не указана цена - не добавляем\n",
    "    if price is not None:\n",
    "        return [brand, name, int(price.text)]"
   ]
  },
  {
   "cell_type": "code",
   "execution_count": 4,
   "id": "39f390aa",
   "metadata": {
    "scrolled": true
   },
   "outputs": [
    {
     "name": "stdout",
     "output_type": "stream",
     "text": [
      "oleos\n",
      "page -- 1\n",
      "page -- 2\n",
      "page -- 3\n",
      "page -- 4\n",
      "page -- 5\n",
      "page -- 6\n",
      "page -- 7\n",
      "miraroma\n",
      "page -- 1\n",
      "page -- 2\n"
     ]
    }
   ],
   "source": [
    "# список для хранения извлеченных данных\n",
    "products = []\n",
    "for brand in brands:\n",
    "    count = pages_count(url, brand)\n",
    "    print(brand)\n",
    "    # собираем данные по товарам и ценам на каждой странице\n",
    "    for i in range(1, count):\n",
    "        print('page --', i)\n",
    "        # получаем данные страницы\n",
    "        sleep(3)\n",
    "        response = requests.get(url + brand, params={'page':str(i)})\n",
    "        soup = BeautifulSoup(response.text, 'lxml')\n",
    "        # определяем список карточек с товарами\n",
    "        cards = soup.find_all('div', class_='catalog-card card-flex')\n",
    "\n",
    "        for card in cards:\n",
    "            # проверяем текущую карточку на наличие других вариантов продукта\n",
    "            if card.find('svg', class_='icon icon--buy') is not None:\n",
    "                products.append(card_no_variants(card, brand))\n",
    "            else:\n",
    "                products += card_variants(card, brand)"
   ]
  },
  {
   "cell_type": "code",
   "execution_count": 7,
   "id": "5820c005",
   "metadata": {
    "scrolled": true
   },
   "outputs": [
    {
     "data": {
      "text/html": [
       "<div>\n",
       "<style scoped>\n",
       "    .dataframe tbody tr th:only-of-type {\n",
       "        vertical-align: middle;\n",
       "    }\n",
       "\n",
       "    .dataframe tbody tr th {\n",
       "        vertical-align: top;\n",
       "    }\n",
       "\n",
       "    .dataframe thead th {\n",
       "        text-align: right;\n",
       "    }\n",
       "</style>\n",
       "<table border=\"1\" class=\"dataframe\">\n",
       "  <thead>\n",
       "    <tr style=\"text-align: right;\">\n",
       "      <th></th>\n",
       "      <th>brand</th>\n",
       "      <th>name_product</th>\n",
       "      <th>price</th>\n",
       "    </tr>\n",
       "  </thead>\n",
       "  <tbody>\n",
       "    <tr>\n",
       "      <th>0</th>\n",
       "      <td>oleos</td>\n",
       "      <td>Масло эфирное цитронелла 10 мл</td>\n",
       "      <td>162</td>\n",
       "    </tr>\n",
       "    <tr>\n",
       "      <th>1</th>\n",
       "      <td>oleos</td>\n",
       "      <td>Суперчистотел 5 мл</td>\n",
       "      <td>75</td>\n",
       "    </tr>\n",
       "    <tr>\n",
       "      <th>2</th>\n",
       "      <td>oleos</td>\n",
       "      <td>МАСЛО ЧЕРНОГО ТМИНА</td>\n",
       "      <td>736</td>\n",
       "    </tr>\n",
       "    <tr>\n",
       "      <th>3</th>\n",
       "      <td>oleos</td>\n",
       "      <td>Масло эфирное гвоздика 10 мл</td>\n",
       "      <td>124</td>\n",
       "    </tr>\n",
       "    <tr>\n",
       "      <th>4</th>\n",
       "      <td>oleos</td>\n",
       "      <td>Масло эфирное мята перечная 10 мл</td>\n",
       "      <td>133</td>\n",
       "    </tr>\n",
       "  </tbody>\n",
       "</table>\n",
       "</div>"
      ],
      "text/plain": [
       "   brand                       name_product  price\n",
       "0  oleos     Масло эфирное цитронелла 10 мл    162\n",
       "1  oleos                 Суперчистотел 5 мл     75\n",
       "2  oleos                МАСЛО ЧЕРНОГО ТМИНА    736\n",
       "3  oleos       Масло эфирное гвоздика 10 мл    124\n",
       "4  oleos  Масло эфирное мята перечная 10 мл    133"
      ]
     },
     "execution_count": 7,
     "metadata": {},
     "output_type": "execute_result"
    }
   ],
   "source": [
    "# убираем пустые значения из результата\n",
    "products = list(filter(None, products))\n",
    "\n",
    "# сохраняем в файл\n",
    "df = pd.DataFrame(products, columns=['brand', 'name_product', 'price'])\n",
    "df.to_csv('apteka_ru_'+str(date.today())+'.csv', sep=';')\n",
    "\n",
    "file = pd.read_csv('apteka_ru_'+str(date.today())+'.csv', sep=';', index_col=0)\n",
    "file.head()"
   ]
  }
 ],
 "metadata": {
  "kernelspec": {
   "display_name": "Python 3 (ipykernel)",
   "language": "python",
   "name": "python3"
  },
  "language_info": {
   "codemirror_mode": {
    "name": "ipython",
    "version": 3
   },
   "file_extension": ".py",
   "mimetype": "text/x-python",
   "name": "python",
   "nbconvert_exporter": "python",
   "pygments_lexer": "ipython3",
   "version": "3.9.10"
  },
  "toc": {
   "base_numbering": 1,
   "nav_menu": {},
   "number_sections": true,
   "sideBar": true,
   "skip_h1_title": false,
   "title_cell": "Table of Contents",
   "title_sidebar": "Contents",
   "toc_cell": false,
   "toc_position": {},
   "toc_section_display": true,
   "toc_window_display": false
  }
 },
 "nbformat": 4,
 "nbformat_minor": 5
}
